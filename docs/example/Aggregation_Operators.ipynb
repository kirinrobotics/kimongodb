{
 "cells": [
  {
   "attachments": {},
   "cell_type": "markdown",
   "metadata": {},
   "source": [
    "# MongoDB Aggregation Operators"
   ]
  },
  {
   "attachments": {},
   "cell_type": "markdown",
   "metadata": {},
   "source": [
    "The following table provides an overview of common SQL aggregation terms, functions, and concepts and the corresponding MongoDB aggregation operators:\n",
    "\n",
    "| SQL Terms, Functions, and Concepts | MongoDB Aggregation Operators |\n",
    "| :---: | :---: |\n",
    "| WHERE | $match |\n",
    "| GROUP BY | $group |\n",
    "| HAVING | $match |\n",
    "| SELECT | $project |\n",
    "| ORDER BY | $sort |\n",
    "| LIMIT | $limit |\n",
    "| SUM() | $sum |\n",
    "| COUNT() | $sum |\n",
    "| join | $lookup |"
   ]
  },
  {
   "cell_type": "code",
   "execution_count": 9,
   "metadata": {},
   "outputs": [
    {
     "name": "stdout",
     "output_type": "stream",
     "text": [
      "{'_id': ObjectId('6445f609cdad944b2ded4153'), 'name': 'Bob Johnson', 'subject': 'History', 'department': 'Social Studies', 'years_of_experience': 9}\n",
      "{'_id': '3', 'name': 'Bob Johnson', 'gender': 'male', 'department': 'History', 'years_of_experience': 3}\n",
      "{'_id': '5', 'name': 'Peter Brown', 'gender': 'male', 'department': 'Art', 'years_of_experience': 7}\n"
     ]
    }
   ],
   "source": [
    "# $match\n",
    "import pymongo\n",
    "\n",
    "# Connect to the MongoDB server\n",
    "client = pymongo.MongoClient(\"mongodb://localhost:27017/\")\n",
    "\n",
    "# Select the database and collection to query\n",
    "db = client[\"myschool\"]\n",
    "collection = db[\"teacher\"]\n",
    "\n",
    "# Define the pipeline for the aggregation\n",
    "pipeline = [\n",
    "    {\"$match\": {\"name\": {\"$regex\": \".*B.*\"}}}\n",
    "]\n",
    "\n",
    "# Execute the aggregation and print the results\n",
    "results = collection.aggregate(pipeline)\n",
    "for result in results:\n",
    "    print(result)"
   ]
  },
  {
   "cell_type": "code",
   "execution_count": 11,
   "metadata": {},
   "outputs": [
    {
     "name": "stdout",
     "output_type": "stream",
     "text": [
      "{'_id': 'Math', 'count': 2}\n",
      "{'_id': 'English', 'count': 2}\n",
      "{'_id': 'Music', 'count': 1}\n",
      "{'_id': 'Physical Education', 'count': 1}\n",
      "{'_id': 'Computer Science', 'count': 1}\n",
      "{'_id': 'Social Studies', 'count': 2}\n",
      "{'_id': 'Foreign Language', 'count': 1}\n",
      "{'_id': 'Art', 'count': 1}\n",
      "{'_id': 'Science', 'count': 1}\n",
      "{'_id': None, 'count': 2}\n",
      "{'_id': 'History', 'count': 1}\n"
     ]
    }
   ],
   "source": [
    "# $group\n",
    "import pymongo\n",
    "\n",
    "# Connect to the MongoDB server\n",
    "client = pymongo.MongoClient(\"mongodb://localhost:27017/\")\n",
    "\n",
    "# Select the database and collection to query\n",
    "db = client[\"myschool\"]\n",
    "collection = db[\"teacher\"]\n",
    "\n",
    "# Define the pipeline for the aggregation\n",
    "pipeline = [\n",
    "    {\"$group\": {\"_id\": \"$department\", \"count\": {\"$sum\": 1}}}\n",
    "]\n",
    "\n",
    "# Execute the aggregation and print the results\n",
    "results = collection.aggregate(pipeline)\n",
    "for result in results:\n",
    "    print(result)"
   ]
  },
  {
   "cell_type": "code",
   "execution_count": 13,
   "metadata": {},
   "outputs": [
    {
     "name": "stdout",
     "output_type": "stream",
     "text": [
      "{'name': 'Ms. Smith', 'department': 'English'}\n",
      "{'name': 'Ms. Kyan', 'department': 'Math'}\n",
      "{'name': 'John Doe'}\n",
      "{'name': 'Jane Smith'}\n",
      "{'name': 'Bob Johnson', 'department': 'Social Studies'}\n",
      "{'name': 'John Doe', 'department': 'Math'}\n",
      "{'name': 'Jane Smith', 'department': 'Science'}\n",
      "{'name': 'Bob Johnson', 'department': 'History'}\n",
      "{'name': 'Alice Lee', 'department': 'English'}\n",
      "{'name': 'Peter Brown', 'department': 'Art'}\n",
      "{'name': 'Samantha Green', 'department': 'Physical Education'}\n",
      "{'name': 'David Kim', 'department': 'Music'}\n",
      "{'name': 'Emily Davis', 'department': 'Social Studies'}\n",
      "{'name': 'Michael Johnson', 'department': 'Computer Science'}\n",
      "{'name': 'Rachel Martinez', 'department': 'Foreign Language'}\n"
     ]
    }
   ],
   "source": [
    "# $project\n",
    "import pymongo\n",
    "\n",
    "# Connect to the MongoDB server\n",
    "client = pymongo.MongoClient(\"mongodb://localhost:27017/\")\n",
    "\n",
    "# Select the database and collection to query\n",
    "db = client[\"myschool\"]\n",
    "collection = db[\"teacher\"]\n",
    "\n",
    "# Define the pipeline for aggregation\n",
    "pipeline = [\n",
    "    {\"$project\": {\"_id\": 0, \"name\": 1, \"department\": 1}}\n",
    "]\n",
    "\n",
    "# Perform aggregation and print the results\n",
    "results = collection.aggregate(pipeline)\n",
    "for result in results:\n",
    "    print(result)"
   ]
  },
  {
   "cell_type": "code",
   "execution_count": 28,
   "metadata": {},
   "outputs": [
    {
     "name": "stdout",
     "output_type": "stream",
     "text": [
      "{'_id': ObjectId('6442402f4a3b5c368cda59c9'), 'name': 'Cedric', 'major': 'Mechatronics', 'teachers': []}\n",
      "{'_id': ObjectId('6442402f4a3b5c368cda59ca'), 'name': 'Bob', 'major': 'Electrical Engineering', 'teachers': []}\n",
      "{'_id': ObjectId('6442402f4a3b5c368cda59cb'), 'name': 'Charlie', 'major': 'Psychology', 'teachers': []}\n",
      "{'_id': ObjectId('6442402f4a3b5c368cda59cc'), 'name': 'David', 'major': 'Biology', 'teachers': []}\n",
      "{'_id': ObjectId('6442402f4a3b5c368cda59cd'), 'name': 'Alice', 'major': 'Computer Science', 'teachers': [{'name': 'Michael Johnson'}]}\n"
     ]
    }
   ],
   "source": [
    "# $lookup\n",
    "import pymongo\n",
    "\n",
    "# Connect to the MongoDB server\n",
    "client = pymongo.MongoClient(\"mongodb://localhost:27017/\")\n",
    "\n",
    "# Select the database and collection to query\n",
    "db = client[\"myschool\"]\n",
    "students_collection = db[\"student\"]\n",
    "teachers_collection = db[\"teacher\"]\n",
    "\n",
    "# Define the pipeline for aggregation\n",
    "pipeline = [\n",
    "    {\"$lookup\": {\n",
    "        \"from\": \"teacher\",\n",
    "        \"localField\": \"major\",\n",
    "        \"foreignField\": \"department\",\n",
    "        \"as\": \"teachers\"\n",
    "    }},\n",
    "    {\"$project\": {\"_id\": 1, \"name\": 1, \"major\": 1, \"teachers.name\": 1}}\n",
    "]\n",
    "\n",
    "# Perform aggregation and print the results\n",
    "results = students_collection.aggregate(pipeline)\n",
    "for result in results:\n",
    "    print(result)"
   ]
  }
 ],
 "metadata": {
  "kernelspec": {
   "display_name": "Python 3",
   "language": "python",
   "name": "python3"
  },
  "language_info": {
   "codemirror_mode": {
    "name": "ipython",
    "version": 3
   },
   "file_extension": ".py",
   "mimetype": "text/x-python",
   "name": "python",
   "nbconvert_exporter": "python",
   "pygments_lexer": "ipython3",
   "version": "3.10.6"
  },
  "orig_nbformat": 4
 },
 "nbformat": 4,
 "nbformat_minor": 2
}
