{
 "cells": [
  {
   "attachments": {},
   "cell_type": "markdown",
   "metadata": {},
   "source": [
    "# Guide pymongo"
   ]
  },
  {
   "attachments": {},
   "cell_type": "markdown",
   "metadata": {},
   "source": [
    "# Connect to database"
   ]
  },
  {
   "cell_type": "code",
   "execution_count": 2,
   "metadata": {},
   "outputs": [
    {
     "name": "stdout",
     "output_type": "stream",
     "text": [
      "Connected successfully to MongoDB!\n"
     ]
    }
   ],
   "source": [
    "import pymongo\n",
    "# Establish a connection to MongoDB\n",
    "try:\n",
    "    client = pymongo.MongoClient(\"mongodb://localhost:27017/\")\n",
    "    print(\"Connected successfully to MongoDB!\")\n",
    "except pymongo.errors.ConnectionFailure as e:\n",
    "    print(\"Could not connect to MongoDB: %s\" % e)"
   ]
  },
  {
   "attachments": {},
   "cell_type": "markdown",
   "metadata": {},
   "source": [
    "# Database Overview"
   ]
  },
  {
   "cell_type": "code",
   "execution_count": 3,
   "metadata": {},
   "outputs": [
    {
     "data": {
      "text/plain": [
       "['admin', 'config', 'kirins', 'local', 'myschool']"
      ]
     },
     "execution_count": 3,
     "metadata": {},
     "output_type": "execute_result"
    }
   ],
   "source": [
    "client.list_database_names()      \n",
    "database = client[\"myschool\"]                       # Set the database to work on\n",
    "collection = database[\"student\"]                    # Checks the database name"
   ]
  },
  {
   "cell_type": "code",
   "execution_count": 10,
   "metadata": {},
   "outputs": [
    {
     "name": "stdout",
     "output_type": "stream",
     "text": [
      "Number of documents: 5\n",
      "Number of categories: 0\n",
      "Categories: []\n",
      "Attributes names : ['_id', 'id', 'name', 'gender', 'major', 'gpa']\n"
     ]
    }
   ],
   "source": [
    "# Count the number of documents in the collection\n",
    "num_documents = collection.count_documents({})\n",
    "\n",
    "# Get the unique values of the \"category\" field in the collection\n",
    "categories = collection.distinct(\"category\")\n",
    "attributes = list (collection.find().limit(1)[1])     ## WARNING use as reference , NoSQL db can have different attributes by document\n",
    "\n",
    "# Print a summary of the dataset content\n",
    "print(f\"Number of documents: {num_documents}\")\n",
    "print(f\"Number of categories: {len(categories)}\")\n",
    "print(f\"Categories: {categories}\")\n",
    "print ('Attributes names : %s' % attributes)"
   ]
  },
  {
   "cell_type": "code",
   "execution_count": 32,
   "metadata": {},
   "outputs": [
    {
     "name": "stdout",
     "output_type": "stream",
     "text": [
      "{'_id': ObjectId('64425183615c6d60a6d91d10'), 'name': 'Ms. Smith', 'gender': 'female', 'department': 'English', 'years_of_experience': 10}\n",
      "{'_id': ObjectId('6445f2a9cdad944b2ded4150'), 'name': 'Ms. Smith', 'gender': 'female', 'department': 'English', 'years_of_experience': 10}\n"
     ]
    }
   ],
   "source": [
    "documents = list(collection.find())\n",
    "\n",
    "# Print the documents\n",
    "for document in documents:\n",
    "    print(document)"
   ]
  },
  {
   "cell_type": "code",
   "execution_count": 7,
   "metadata": {},
   "outputs": [
    {
     "name": "stdout",
     "output_type": "stream",
     "text": [
      "Number of documents : 5\n",
      "Attributes names : ['_id', 'id', 'name', 'gender', 'major', 'gpa']\n"
     ]
    }
   ],
   "source": [
    "## Dataset content summary\n",
    "num_documents = collection.count_documents({'_id' : {'$exists' : 1}})\n",
    "attributes = list (collection.find().limit(1)[1])     ## WARNING use as reference , NoSQL db can have different attributes by document\n",
    "\n",
    "print ('Number of documents : %d' % num_documents)\n",
    "print ('Attributes names : %s' % attributes)"
   ]
  },
  {
   "cell_type": "code",
   "execution_count": 11,
   "metadata": {},
   "outputs": [
    {
     "data": {
      "text/plain": [
       "[{'_id': ObjectId('6442402f4a3b5c368cda59c9'),\n",
       "  'id': 1,\n",
       "  'name': 'Cedric',\n",
       "  'gender': 'male',\n",
       "  'major': 'Mechatronics',\n",
       "  'gpa': 3.1}]"
      ]
     },
     "execution_count": 11,
     "metadata": {},
     "output_type": "execute_result"
    }
   ],
   "source": [
    "## We can list one document\n",
    "list ( collection.find().limit(1) )"
   ]
  },
  {
   "attachments": {},
   "cell_type": "markdown",
   "metadata": {},
   "source": [
    "# Insert\n"
   ]
  },
  {
   "attachments": {},
   "cell_type": "markdown",
   "metadata": {},
   "source": [
    "Use the appropriate `insert_one()` or `insert_many()` method to insert the document or documents into the collection."
   ]
  },
  {
   "cell_type": "code",
   "execution_count": 31,
   "metadata": {},
   "outputs": [
    {
     "name": "stdout",
     "output_type": "stream",
     "text": [
      "6445f2a9cdad944b2ded4150\n"
     ]
    }
   ],
   "source": [
    "# Select the database and collection to use\n",
    "database = client[\"myschool\"]\n",
    "collection = database[\"teacher\"]\n",
    "\n",
    "# Define the teacher document to insert\n",
    "teacher = {\"name\": \"Ms. Smith\", \"gender\": \"female\", \"department\": \"English\", \"years_of_experience\": 10}\n",
    "\n",
    "# Insert the teacher document into the collection\n",
    "result = collection.insert_one(teacher)\n",
    "\n",
    "# Print the ID of the inserted document\n",
    "print(result.inserted_id)"
   ]
  },
  {
   "cell_type": "code",
   "execution_count": 33,
   "metadata": {},
   "outputs": [
    {
     "name": "stdout",
     "output_type": "stream",
     "text": [
      "[ObjectId('6445f609cdad944b2ded4151'), ObjectId('6445f609cdad944b2ded4152'), ObjectId('6445f609cdad944b2ded4153')]\n"
     ]
    }
   ],
   "source": [
    "# Define a list of documents to insert\n",
    "teachers = [\n",
    "  { 'name': 'John Doe', 'subject': 'Math' },\n",
    "  { 'name': 'Jane Smith', 'subject': 'Science' },\n",
    "  { 'name': 'Bob Johnson', 'subject': 'History' }\n",
    "]\n",
    "\n",
    "# Insert the documents into the collection\n",
    "result = collection.insert_many(teachers)\n",
    "\n",
    "# Print the IDs of the inserted documents\n",
    "print(result.inserted_ids)"
   ]
  },
  {
   "attachments": {},
   "cell_type": "markdown",
   "metadata": {},
   "source": [
    "# Update"
   ]
  },
  {
   "cell_type": "code",
   "execution_count": 36,
   "metadata": {},
   "outputs": [
    {
     "name": "stdout",
     "output_type": "stream",
     "text": [
      "1\n"
     ]
    }
   ],
   "source": [
    "# Update the department field of Bob Johnson's document\n",
    "filter = { 'name': 'Bob Johnson' }\n",
    "update = { '$set': { 'department': 'Social Studies' } }\n",
    "result = collection.update_one(filter, update)\n",
    "\n",
    "# Print the number of documents updated\n",
    "print(result.modified_count)"
   ]
  },
  {
   "cell_type": "code",
   "execution_count": 43,
   "metadata": {},
   "outputs": [
    {
     "name": "stdout",
     "output_type": "stream",
     "text": [
      "2\n"
     ]
    }
   ],
   "source": [
    "# Update the department field of all History teachers' documents\n",
    "filter = { 'department': 'English' }\n",
    "update = { '$set': { 'class': '3C' } }\n",
    "result = collection.update_many(filter, update)\n",
    "\n",
    "# Print the number of documents updated\n",
    "print(result.modified_count)"
   ]
  },
  {
   "attachments": {},
   "cell_type": "markdown",
   "metadata": {},
   "source": [
    "# Delete"
   ]
  },
  {
   "cell_type": "code",
   "execution_count": 44,
   "metadata": {},
   "outputs": [
    {
     "name": "stdout",
     "output_type": "stream",
     "text": [
      "2\n"
     ]
    }
   ],
   "source": [
    "# Delete the 'years_of_experience' field from all documents\n",
    "filter = {}\n",
    "update = { '$unset': { 'class': '' } }\n",
    "result = collection.update_many(filter, update)\n",
    "\n",
    "# Print the number of documents updated\n",
    "print(result.modified_count)"
   ]
  },
  {
   "attachments": {},
   "cell_type": "markdown",
   "metadata": {},
   "source": [
    "# Data visualization and Queries"
   ]
  },
  {
   "cell_type": "code",
   "execution_count": 49,
   "metadata": {},
   "outputs": [
    {
     "name": "stdout",
     "output_type": "stream",
     "text": [
      "['_id', 'name', 'gender', 'department', 'years_of_experience']\n"
     ]
    }
   ],
   "source": [
    "# Visualization of attribute names\n",
    "print (list (collection.find({\"years_of_experience\" : 10, \"gender\" : 'female'}).limit(1)[1]))"
   ]
  },
  {
   "cell_type": "code",
   "execution_count": 52,
   "metadata": {},
   "outputs": [
    {
     "name": "stdout",
     "output_type": "stream",
     "text": [
      "Years_of_experience :[1, 2, 3, 4, 5, 6, 7, 8, 9, 10]\n",
      "Department :['Art', 'Computer Science', 'English', 'Foreign Language', 'History', 'Math', 'Music', 'Physical Education', 'Science', 'Social Studies']\n"
     ]
    }
   ],
   "source": [
    "# Visualization of attribute unique content\n",
    "query = collection.distinct(\"years_of_experience\")\n",
    "print (\"Years_of_experience :\" + str(sorted(query)))\n",
    "\n",
    "query = collection.distinct(\"department\")\n",
    "print (\"Department :\" + str(sorted(query)))"
   ]
  },
  {
   "cell_type": "code",
   "execution_count": 55,
   "metadata": {},
   "outputs": [
    {
     "data": {
      "text/plain": [
       "[{'_id': ObjectId('64425183615c6d60a6d91d10'),\n",
       "  'name': 'Ms. Smith',\n",
       "  'gender': 'female',\n",
       "  'department': 'English',\n",
       "  'years_of_experience': 10},\n",
       " {'_id': ObjectId('6445f2a9cdad944b2ded4150'),\n",
       "  'name': 'Ms. Kyan',\n",
       "  'gender': 'female',\n",
       "  'department': 'Math',\n",
       "  'years_of_experience': 10},\n",
       " {'_id': '4',\n",
       "  'name': 'Alice Lee',\n",
       "  'gender': 'female',\n",
       "  'department': 'English',\n",
       "  'years_of_experience': 10}]"
      ]
     },
     "execution_count": 55,
     "metadata": {},
     "output_type": "execute_result"
    }
   ],
   "source": [
    "list(collection.find({\"years_of_experience\": 10}))"
   ]
  },
  {
   "cell_type": "code",
   "execution_count": 63,
   "metadata": {},
   "outputs": [
    {
     "data": {
      "text/plain": [
       "[{'_id': ObjectId('6445f2a9cdad944b2ded4150'),\n",
       "  'name': 'Ms. Kyan',\n",
       "  'gender': 'female',\n",
       "  'department': 'Math',\n",
       "  'years_of_experience': 10}]"
      ]
     },
     "execution_count": 63,
     "metadata": {},
     "output_type": "execute_result"
    }
   ],
   "source": [
    "# Filter by fields\n",
    "filters = {\"department\": 'Math'}\n",
    "fields = ['name','gender', 'department','years_of_experience']\n",
    "\n",
    "list(collection.find(filters, fields).limit(1))"
   ]
  },
  {
   "attachments": {},
   "cell_type": "markdown",
   "metadata": {},
   "source": [
    "# Count"
   ]
  },
  {
   "cell_type": "code",
   "execution_count": 78,
   "metadata": {},
   "outputs": [
    {
     "data": {
      "text/plain": [
       "1"
      ]
     },
     "execution_count": 78,
     "metadata": {},
     "output_type": "execute_result"
    }
   ],
   "source": [
    "collection.count_documents({\"years_of_experience\": 2})"
   ]
  },
  {
   "cell_type": "code",
   "execution_count": 76,
   "metadata": {},
   "outputs": [
    {
     "data": {
      "text/plain": [
       "[{'_id': ObjectId('64425183615c6d60a6d91d10'),\n",
       "  'name': 'Ms. Smith',\n",
       "  'gender': 'female',\n",
       "  'department': 'English',\n",
       "  'years_of_experience': 10}]"
      ]
     },
     "execution_count": 76,
     "metadata": {},
     "output_type": "execute_result"
    }
   ],
   "source": [
    "# Maximum value\n",
    "list(collection.find({},{\"id\": 0}).sort('years_of_experience', pymongo.DESCENDING).limit(1))"
   ]
  },
  {
   "cell_type": "code",
   "execution_count": 87,
   "metadata": {},
   "outputs": [
    {
     "data": {
      "text/plain": [
       "10"
      ]
     },
     "execution_count": 87,
     "metadata": {},
     "output_type": "execute_result"
    }
   ],
   "source": [
    "max(collection.distinct(\"years_of_experience\"))"
   ]
  },
  {
   "cell_type": "code",
   "execution_count": 84,
   "metadata": {},
   "outputs": [
    {
     "data": {
      "text/plain": [
       "[{'_id': '9',\n",
       "  'name': 'Michael Johnson',\n",
       "  'gender': 'male',\n",
       "  'department': 'Computer Science',\n",
       "  'years_of_experience': 1}]"
      ]
     },
     "execution_count": 84,
     "metadata": {},
     "output_type": "execute_result"
    }
   ],
   "source": [
    "list(collection.find({},{\"id\": 0}).sort('years_of_experience', pymongo.ASCENDING).limit(1))"
   ]
  },
  {
   "cell_type": "code",
   "execution_count": 88,
   "metadata": {},
   "outputs": [
    {
     "data": {
      "text/plain": [
       "1"
      ]
     },
     "execution_count": 88,
     "metadata": {},
     "output_type": "execute_result"
    }
   ],
   "source": [
    "min(collection.distinct(\"years_of_experience\"))"
   ]
  },
  {
   "cell_type": "code",
   "execution_count": 92,
   "metadata": {},
   "outputs": [
    {
     "name": "stdout",
     "output_type": "stream",
     "text": [
      "Male -  Min age: 1 and Max age: 7\n",
      "Female -  Min age: 6 and Max age: 10\n"
     ]
    }
   ],
   "source": [
    "yearmale   = collection.find({\"gender\" : 'male'}).distinct(\"years_of_experience\")\n",
    "yearfemale = collection.find({\"gender\" : 'female'}).distinct(\"years_of_experience\")\n",
    "\n",
    "print ('Male -  Min age: ' + str(min(yearmale)) + ' and Max age: ' + str(max(yearmale)))\n",
    "print ('Female -  Min age: ' + str(min(yearfemale)) + ' and Max age: ' + str(max(yearfemale)))"
   ]
  }
 ],
 "metadata": {
  "kernelspec": {
   "display_name": "Python 3",
   "language": "python",
   "name": "python3"
  },
  "language_info": {
   "codemirror_mode": {
    "name": "ipython",
    "version": 3
   },
   "file_extension": ".py",
   "mimetype": "text/x-python",
   "name": "python",
   "nbconvert_exporter": "python",
   "pygments_lexer": "ipython3",
   "version": "3.10.6"
  },
  "orig_nbformat": 4
 },
 "nbformat": 4,
 "nbformat_minor": 2
}
